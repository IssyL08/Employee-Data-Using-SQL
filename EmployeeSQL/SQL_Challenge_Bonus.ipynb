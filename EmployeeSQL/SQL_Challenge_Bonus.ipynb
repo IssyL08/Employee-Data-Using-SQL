{
 "cells": [
  {
   "cell_type": "markdown",
   "metadata": {},
   "source": [
    "Bonus\n",
    "\n",
    "As you examine the data, you are overcome with a creeping suspicion that the dataset is fake. You surmise that your boss handed you spurious data in order to test the data engineering skills of a new employee. To confirm your hunch, you decide to take the following steps to generate a visualization of the data, with which you will confront your boss:\n",
    "\n",
    "1. Import the SQL database into Pandas. (Yes, you could read the CSVs directly in Pandas, but you are, after all, trying to prove your technical mettle.) This step may require some research. Feel free to use the code below to get started. Be sure to make any necessary modifications for your username, password, host, port, and database name:\n",
    "\n",
    "   ```sql\n",
    "   from sqlalchemy import create_engine\n",
    "   engine = create_engine('postgresql://localhost:5432/<your_db_name>')\n",
    "   connection = engine.connect()\n",
    "   ```\n",
    "\n",
    "* Consult [SQLAlchemy documentation](https://docs.sqlalchemy.org/en/latest/core/engines.html#postgresql) for more information.\n",
    "\n",
    "* If using a password, do not upload your password to your GitHub repository. See [https://www.youtube.com/watch?v=2uaTPmNvH0I](https://www.youtube.com/watch?v=2uaTPmNvH0I) and [https://help.github.com/en/github/using-git/ignoring-files](https://help.github.com/en/github/using-git/ignoring-files) for more information.\n",
    "\n",
    "2. Create a histogram to visualize the most common salary ranges for employees.\n",
    "\n",
    "3. Create a bar chart of average salary by title.\n",
    "\n",
    "See below for importing of the sql file into Pandas and processing the data here within the pandas data file.  All graphs and cleaned tables are exported to \"Outputs\" folder."
   ]
  },
  {
   "cell_type": "code",
   "execution_count": null,
   "metadata": {},
   "outputs": [],
   "source": [
    "import pandas as pd\n",
    "import matplotlib.pyplot as plt\n",
    "import numpy as np\n",
    "import urllib.parse\n",
    "import psycopg2\n",
    "import pandas.io.sql as psql\n",
    "from sqlalchemy import create_engine\n",
    "\n",
    "%matplotlib inline"
   ]
  },
  {
   "cell_type": "code",
   "execution_count": null,
   "metadata": {},
   "outputs": [],
   "source": [
    "# Connection parameters, yours will be different\n",
    "param_dic = {\n",
    "    \"host\"      : \"localhost\",\n",
    "    \"database\"  : \"SQL_CHallenge\",\n",
    "    \"user\"      : \"postgres\",\n",
    "    \"password\"  : \"Tic@tac56\"\n",
    "}\n",
    "\n",
    "def connect(params_dic):\n",
    "    \"\"\" Connect to the PostgreSQL database server \"\"\"\n",
    "    conn = None\n",
    "    try:\n",
    "        # connect to the PostgreSQL server\n",
    "        print('Connecting to the PostgreSQL database...')\n",
    "        conn = psycopg2.connect(**params_dic)\n",
    "    except (Exception, psycopg2.DatabaseError) as error:\n",
    "        print(error)\n",
    "        sys.exit(1) \n",
    "    print(\"Connection successful\")\n",
    "    return conn"
   ]
  },
  {
   "cell_type": "code",
   "execution_count": null,
   "metadata": {},
   "outputs": [],
   "source": [
    "def postgresql_to_dataframe(conn, select_query, column_names):\n",
    "    \"\"\"\n",
    "    Tranform a SELECT query into a pandas dataframe\n",
    "    \"\"\"\n",
    "    cursor = conn.cursor()\n",
    "    try:\n",
    "        cursor.execute(select_query)\n",
    "    except (Exception, psycopg2.DatabaseError) as error:\n",
    "        print(\"Error: %s\" % error)\n",
    "        cursor.close()\n",
    "        return 1\n",
    "    \n",
    "    # Naturally we get a list of tupples\n",
    "    tupples = cursor.fetchall()\n",
    "    cursor.close()\n",
    "    \n",
    "    # We just need to turn it into a pandas dataframe\n",
    "    df = pd.DataFrame(tupples, columns=column_names)\n",
    "    return df\n",
    "    print(df)"
   ]
  },
  {
   "cell_type": "code",
   "execution_count": null,
   "metadata": {},
   "outputs": [],
   "source": [
    "conn = connect(param_dic)\n",
    "column_names = [\"emp_no\", \"salary\"]\n",
    "\n",
    "# Execute the \"SELECT *\" query\n",
    "salaries_df = postgresql_to_dataframe(conn, \"SELECT * FROM salaries\", column_names)\n",
    "salaries_df.head()\n"
   ]
  },
  {
   "cell_type": "code",
   "execution_count": null,
   "metadata": {},
   "outputs": [],
   "source": [
    "#Salaries Dataframe\n",
    "\n",
    "salaries = pd.read_sql(\"SELECT * FROM salaries\", conn)\n",
    "salaries.head(10)\n"
   ]
  },
  {
   "cell_type": "code",
   "execution_count": null,
   "metadata": {},
   "outputs": [],
   "source": [
    "# Renaming Columns for a cleaner look\n",
    "salaries_clean = salaries.rename(columns={\"emp_no\": \"Employee Number\", \"salary\": \"Salary\",})\n",
    "salaries_clean.head(10)"
   ]
  },
  {
   "cell_type": "code",
   "execution_count": null,
   "metadata": {},
   "outputs": [],
   "source": [
    "# Employees Dataframe\n",
    "\n",
    "employees = pd.read_sql(\"SELECT * FROM employees\", conn)\n",
    "# employees.head(10)\n",
    "\n",
    "# Renaming Columns for a cleaner look\n",
    "employees_clean = employees.rename(columns={\"emp_no\": \"Employee Number\",\"emp_title_id\":\"Employee Title ID\",\"birth_date\": \"Birth Date\", \"first_name\" : \"First Name\", \"last_name\" : \"Last Name\", \"sex\" : \"Gender\", \"hire_date\" : \"Hire Date\"})\n",
    "employees_clean.head(10)"
   ]
  },
  {
   "cell_type": "code",
   "execution_count": null,
   "metadata": {},
   "outputs": [],
   "source": [
    "# Department Employee Dataframe\n",
    "\n",
    "dept_employee = pd.read_sql(\"SELECT * FROM dept_employee\", conn)\n",
    "dept_employee.head(10)\n",
    "\n",
    "dept_employee_clean = dept_employee.rename(columns={\"emp_no\": \"Employee Number\", \"dept_no\": \"Department Number\", })\n",
    "dept_employee_clean.head(10)"
   ]
  },
  {
   "cell_type": "code",
   "execution_count": null,
   "metadata": {},
   "outputs": [],
   "source": [
    "# Departments Dataframe\n",
    "\n",
    "departments = pd.read_sql(\"SELECT * FROM departments\", conn)\n",
    "departments.head(10)\n",
    "\n",
    "departments_clean = departments.rename(columns={\"dept_name\": \"Department Name\", \"dept_no\": \"Department Number\"})\n",
    "departments_clean.head(10)"
   ]
  },
  {
   "cell_type": "code",
   "execution_count": null,
   "metadata": {},
   "outputs": [],
   "source": [
    "# Titles Dataframe\n",
    "\n",
    "titles = pd.read_sql(\"SELECT * FROM titles\", conn)\n",
    "# titles.head(10)\n",
    "\n",
    "titles_clean = titles.rename(columns={\"title_id\":\"Employee Title ID\", \"title\": \"Title\", })\n",
    "titles_clean.head(10)"
   ]
  },
  {
   "cell_type": "code",
   "execution_count": null,
   "metadata": {},
   "outputs": [],
   "source": [
    "# Merge DF -- Employees and Salaries\n",
    "\n",
    "employees_salaries = pd.merge(employees_clean, salaries_clean, on=\"Employee Number\", how=\"inner\")\n",
    "employees_salaries.head(10)"
   ]
  },
  {
   "cell_type": "code",
   "execution_count": null,
   "metadata": {},
   "outputs": [],
   "source": [
    "# Merge DF -- on Employee Number, common -- Salaries and Titles \n",
    "\n",
    "salaries_titles = pd.merge(employees_salaries, titles_clean, on=\"Employee Title ID\", how=\"inner\" )\n",
    "\n",
    "salaries_titles.head(10)"
   ]
  },
  {
   "cell_type": "code",
   "execution_count": null,
   "metadata": {},
   "outputs": [],
   "source": [
    "salaries_titles_grouped_df = salaries_titles.groupby(\"Title\").mean()\n",
    "salaries_titles_grouped_df"
   ]
  },
  {
   "cell_type": "code",
   "execution_count": null,
   "metadata": {},
   "outputs": [],
   "source": [
    "# Dropping the Employee Number as it's no longer needed, makes it easier to visualize the plots\n",
    "\n",
    "title_salary_df = salaries_titles_grouped_df.drop(columns = \"Employee Number\")\n",
    "title_salary_df = title_salary_df.reset_index()\n",
    "title_salary_df"
   ]
  },
  {
   "cell_type": "code",
   "execution_count": null,
   "metadata": {},
   "outputs": [],
   "source": [
    "# Salary by Employees\n",
    "\n",
    "salaries_employees = pd.merge(salaries_clean, employees_clean, on=\"Employee Number\", how=\"inner\")\n",
    "salaries_employees.head(10)"
   ]
  },
  {
   "cell_type": "code",
   "execution_count": null,
   "metadata": {},
   "outputs": [],
   "source": [
    "# Merge Departments and Department Employee\n",
    "\n",
    "dept_dept_employee = pd.merge(departments_clean, dept_employee_clean, on=\"Department Number\", how=\"inner\")\n",
    "dept_dept_employee.head(10)"
   ]
  },
  {
   "cell_type": "code",
   "execution_count": null,
   "metadata": {},
   "outputs": [],
   "source": [
    "# Merge salaries_department to dept_dept_emp\n",
    "\n",
    "second_merge_on_emp_no = pd.merge(employees_salaries, dept_dept_employee, on=\"Employee Number\", how=\"inner\")\n",
    "second_merge_on_emp_no.head(10)"
   ]
  },
  {
   "cell_type": "code",
   "execution_count": null,
   "metadata": {},
   "outputs": [],
   "source": [
    "second_merge_on_emp_no.columns"
   ]
  },
  {
   "cell_type": "code",
   "execution_count": null,
   "metadata": {},
   "outputs": [],
   "source": [
    "# Drop and Clean\n",
    "\n",
    "clean_second_merge = second_merge_on_emp_no.drop(columns = [\"Department Number\", \"Hire Date\", \"Birth Date\"])\n",
    "clean_second_merge.head()"
   ]
  },
  {
   "cell_type": "code",
   "execution_count": null,
   "metadata": {},
   "outputs": [],
   "source": [
    "# Plotting Salary by Department: Create a histogram to visualize the most common salary ranges for employees.\n",
    "\n",
    "plt.hist(clean_second_merge[\"Salary\"], alpha=1);\n",
    "\n",
    "plt.xlabel(\"\\nSALARY RANGE ($)\", weight=\"bold\");\n",
    "plt.ylabel(\"NUMBER OF EMPLOYEES\\n\", weight=\"bold\");\n",
    "plt.title(\"Salary Range Per Employees in Department\\n\", weight=\"bold\", size=15)\n",
    "\n",
    "plt.grid()\n",
    "plt.tight_layout()\n",
    "\n",
    "plt.savefig(\"Outputs/Hist_By_Dept_Salaries_Range.png\")"
   ]
  },
  {
   "cell_type": "code",
   "execution_count": null,
   "metadata": {},
   "outputs": [],
   "source": [
    "# Salary by Title: Create a histogram to visualize the most common salary ranges for employees.\n",
    "\n",
    "\n",
    "plt.hist(salaries_titles[\"Salary\"], color=\"lightblue\", alpha=1);\n",
    "\n",
    "plt.xlabel(\"\\nSALARY RANGE ($)\", weight=\"bold\");\n",
    "plt.ylabel(\"NUMBER OF EMPLOYEES\\n\", weight=\"bold\");\n",
    "plt.title(\"Salary for Employee based on Title\\n\", weight=\"bold\", size=15)\n",
    "\n",
    "plt.grid()\n",
    "plt.tight_layout()\n",
    "\n",
    "plt.savefig(\"Outputs/Hist_Employee_Salary_Range.png\")"
   ]
  },
  {
   "cell_type": "code",
   "execution_count": null,
   "metadata": {},
   "outputs": [],
   "source": [
    "# Create a bar chart of average salary by title.\n",
    "\n",
    "x_axis = title_salary_df[\"Title\"]\n",
    "y_axis = title_salary_df[\"Salary\"]\n",
    "\n",
    "plt.bar(x_axis, y_axis, color='slateblue', alpha=1)\n",
    "\n",
    "tick_locations = [value for value in x_axis]\n",
    "plt.xticks(tick_locations, x_axis, rotation=90);\n",
    "\n",
    "plt.xlabel(\"\\nTITLE\", weight=\"bold\")\n",
    "plt.ylabel(\"AVERAGE SALARY\\n\", weight=\"bold\")\n",
    "plt.title(\"Average Salary by Title\\n\", weight=\"bold\", size=15)\n",
    "\n",
    "plt.grid()\n",
    "plt.tight_layout()\n",
    "\n",
    "plt.savefig(\"Outputs/Bar_Avg_Salary_By_Title.png\")"
   ]
  },
  {
   "cell_type": "code",
   "execution_count": null,
   "metadata": {},
   "outputs": [],
   "source": [
    "#printing cleaned tables to csv\n",
    "salaries_clean.to_csv('Outputs/salaries_clean.csv', index=False)\n",
    "employees_clean.to_csv('Outputs/employees_clean.csv', index=False)\n",
    "dept_employee_clean.to_csv('Outputs/dept_employee_clean.csv', index=False)\n",
    "departments_clean.to_csv('Outputs/departments_clean.csv', index=False)\n"
   ]
  },
  {
   "cell_type": "code",
   "execution_count": null,
   "metadata": {},
   "outputs": [],
   "source": [
    "#Epilogue\n",
    "second_merge_on_emp_no.loc[second_merge_on_emp_no[\"Employee Number\"] == 499942]"
   ]
  },
  {
   "cell_type": "code",
   "execution_count": null,
   "metadata": {},
   "outputs": [],
   "source": []
  }
 ],
 "metadata": {
  "kernelspec": {
   "display_name": "Python 3",
   "language": "python",
   "name": "python3"
  },
  "language_info": {
   "codemirror_mode": {
    "name": "ipython",
    "version": 3
   },
   "file_extension": ".py",
   "mimetype": "text/x-python",
   "name": "python",
   "nbconvert_exporter": "python",
   "pygments_lexer": "ipython3",
   "version": "3.8.5"
  }
 },
 "nbformat": 4,
 "nbformat_minor": 4
}
